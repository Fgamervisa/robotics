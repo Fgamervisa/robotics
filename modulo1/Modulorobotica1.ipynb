{
 "cells": [
  {
   "cell_type": "markdown",
   "id": "bb87eb88",
   "metadata": {},
   "source": [
    "# Il Primo Programma #"
   ]
  },
  {
   "cell_type": "markdown",
   "id": "207d45e5",
   "metadata": {},
   "source": []
  },
  {
   "cell_type": "code",
   "execution_count": 16,
   "id": "93d303f6",
   "metadata": {
    "scrolled": true
   },
   "outputs": [
    {
     "name": "stdout",
     "output_type": "stream",
     "text": [
      "Inserisci il tuo nome: Gabriele\n",
      "Ciao Gabriele !\n"
     ]
    }
   ],
   "source": [
    "print(\"Ciao\", input(\"Inserisci il tuo nome: \"), \"!\")"
   ]
  },
  {
   "cell_type": "code",
   "execution_count": 17,
   "id": "e801a611",
   "metadata": {},
   "outputs": [
    {
     "name": "stdout",
     "output_type": "stream",
     "text": [
      "TemplateText\n"
     ]
    }
   ],
   "source": [
    "nome = \"TemplateText\"\n",
    "print(nome)"
   ]
  },
  {
   "cell_type": "code",
   "execution_count": 18,
   "id": "6c3c87e4",
   "metadata": {},
   "outputs": [
    {
     "name": "stdout",
     "output_type": "stream",
     "text": [
      "scegli nome della viaVia accademia\n",
      "hai inserito Via accademia\n"
     ]
    }
   ],
   "source": [
    "print(\"hai inserito \" + input(\"scegli nome della via\"))"
   ]
  },
  {
   "cell_type": "markdown",
   "id": "2a1b20a3",
   "metadata": {},
   "source": [
    "Ripetere il codice più volte"
   ]
  },
  {
   "cell_type": "code",
   "execution_count": 19,
   "id": "d0f91cd4",
   "metadata": {},
   "outputs": [
    {
     "name": "stdout",
     "output_type": "stream",
     "text": [
      "Inserisci il tuo nome: Luca\n",
      "Ciao Luca !\n",
      "Ciao Luca !\n",
      "Ciao Luca !\n"
     ]
    }
   ],
   "source": [
    "nome = input(\"Inserisci il tuo nome: \")\n",
    "for contatore in range(3):\n",
    "    print(\"Ciao\", nome, \"!\")"
   ]
  },
  {
   "cell_type": "markdown",
   "id": "b1c472e7",
   "metadata": {},
   "source": [
    "# Calcolatrice Python #"
   ]
  },
  {
   "cell_type": "markdown",
   "id": "8503e05e",
   "metadata": {},
   "source": []
  },
  {
   "cell_type": "code",
   "execution_count": 20,
   "id": "d2e9c114",
   "metadata": {
    "scrolled": true
   },
   "outputs": [
    {
     "name": "stdout",
     "output_type": "stream",
     "text": [
      "Inserisci il primo numero: 5\n",
      "Inserisci il secondo numero: 2\n",
      "La somma è: 7\n"
     ]
    }
   ],
   "source": [
    "numero1 = int(input(\"Inserisci il primo numero: \"))\n",
    "numero2 = int(input(\"Inserisci il secondo numero: \"))\n",
    "print(\"La somma è:\",  int(numero1 + numero2))"
   ]
  },
  {
   "cell_type": "markdown",
   "id": "1840e287",
   "metadata": {},
   "source": []
  },
  {
   "cell_type": "code",
   "execution_count": 21,
   "id": "0e4a7de6",
   "metadata": {},
   "outputs": [
    {
     "name": "stdout",
     "output_type": "stream",
     "text": [
      "La differenza è: 3\n"
     ]
    }
   ],
   "source": [
    "print(\"La differenza è:\", int(numero1 - numero2))"
   ]
  },
  {
   "cell_type": "markdown",
   "id": "5fd2f0dd",
   "metadata": {},
   "source": []
  },
  {
   "cell_type": "code",
   "execution_count": 22,
   "id": "318409b3",
   "metadata": {
    "scrolled": true
   },
   "outputs": [
    {
     "name": "stdout",
     "output_type": "stream",
     "text": [
      "La moltiplicazione è: 10\n"
     ]
    }
   ],
   "source": [
    "print(\"La moltiplicazione è:\", int(numero1 * numero2))"
   ]
  },
  {
   "cell_type": "markdown",
   "id": "8432cc10",
   "metadata": {},
   "source": []
  },
  {
   "cell_type": "code",
   "execution_count": 23,
   "id": "1e43c8c6",
   "metadata": {},
   "outputs": [
    {
     "name": "stdout",
     "output_type": "stream",
     "text": [
      "La divisione è: 2\n"
     ]
    }
   ],
   "source": [
    "print(\"La divisione è:\", int(numero1 / numero2))"
   ]
  },
  {
   "cell_type": "markdown",
   "id": "a1fbf885",
   "metadata": {},
   "source": [
    "# Loop e Ripetizione #"
   ]
  },
  {
   "cell_type": "code",
   "execution_count": 24,
   "id": "fe471b3a",
   "metadata": {},
   "outputs": [
    {
     "name": "stdout",
     "output_type": "stream",
     "text": [
      "0\n",
      "1\n",
      "2\n",
      "3\n",
      "4\n",
      "5\n",
      "6\n",
      "7\n",
      "8\n",
      "9\n",
      "10\n"
     ]
    }
   ],
   "source": [
    "for x in range(11):\n",
    "    print(x)"
   ]
  },
  {
   "cell_type": "code",
   "execution_count": 25,
   "id": "1051fd00",
   "metadata": {},
   "outputs": [
    {
     "name": "stdout",
     "output_type": "stream",
     "text": [
      "1\n",
      "2\n",
      "3\n",
      "4\n",
      "5\n",
      "6\n",
      "7\n",
      "8\n",
      "9\n",
      "10\n"
     ]
    }
   ],
   "source": [
    "for x in range(1,11):\n",
    "    print(x)"
   ]
  },
  {
   "cell_type": "markdown",
   "id": "b25ab7d0",
   "metadata": {},
   "source": [
    "# Condizioni e Decisioni #"
   ]
  },
  {
   "cell_type": "code",
   "execution_count": 26,
   "id": "f7766a7f",
   "metadata": {
    "scrolled": true
   },
   "outputs": [
    {
     "name": "stdout",
     "output_type": "stream",
     "text": [
      "Inserisci l'operazione (+, -, *, /): /\n",
      "Inserisci il primo numero: 12\n",
      "Inserisci il secondo numero: 4\n",
      "Il risultato è: 3.0\n"
     ]
    }
   ],
   "source": [
    "# Calcolatrice Python con decisioni\n",
    "\n",
    "operazione = input(\"Inserisci l'operazione (+, -, *, /): \")\n",
    "\n",
    "numero1 = float(input(\"Inserisci il primo numero: \"))\n",
    "numero2 = float(input(\"Inserisci il secondo numero: \"))\n",
    "\n",
    "if operazione == \"+\":\n",
    "    risultato = numero1 + numero2\n",
    "elif operazione == \"-\":\n",
    "    risultato = numero1 - numero2\n",
    "elif operazione == \"*\":\n",
    "    risultato = numero1 * numero2\n",
    "elif operazione == \"/\":\n",
    "    risultato = numero1 / numero2\n",
    "else:\n",
    "    risultato = \"Operazione non valida\"\n",
    "    \n",
    "print(\"Il risultato è:\", risultato)"
   ]
  },
  {
   "cell_type": "markdown",
   "id": "6cd42fa0",
   "metadata": {},
   "source": [
    "# Contare fino a N #"
   ]
  },
  {
   "cell_type": "code",
   "execution_count": 27,
   "id": "57615d6d",
   "metadata": {},
   "outputs": [
    {
     "name": "stdout",
     "output_type": "stream",
     "text": [
      "Inserisci un numero intero positivo:223\n",
      "223\n",
      "223\n",
      "223\n",
      "223\n",
      "223\n",
      "223\n",
      "223\n",
      "223\n",
      "223\n",
      "223\n",
      "223\n",
      "223\n",
      "223\n",
      "223\n",
      "223\n",
      "223\n",
      "223\n",
      "223\n",
      "223\n",
      "223\n",
      "223\n",
      "223\n",
      "223\n",
      "223\n",
      "223\n",
      "223\n",
      "223\n",
      "223\n",
      "223\n",
      "223\n",
      "223\n",
      "223\n",
      "223\n",
      "223\n",
      "223\n",
      "223\n",
      "223\n",
      "223\n",
      "223\n",
      "223\n",
      "223\n",
      "223\n",
      "223\n",
      "223\n",
      "223\n",
      "223\n",
      "223\n",
      "223\n",
      "223\n",
      "223\n",
      "223\n",
      "223\n",
      "223\n",
      "223\n",
      "223\n",
      "223\n",
      "223\n",
      "223\n",
      "223\n",
      "223\n",
      "223\n",
      "223\n",
      "223\n",
      "223\n",
      "223\n",
      "223\n",
      "223\n",
      "223\n",
      "223\n",
      "223\n",
      "223\n",
      "223\n",
      "223\n",
      "223\n",
      "223\n",
      "223\n",
      "223\n",
      "223\n",
      "223\n",
      "223\n",
      "223\n",
      "223\n",
      "223\n",
      "223\n",
      "223\n",
      "223\n",
      "223\n",
      "223\n",
      "223\n",
      "223\n",
      "223\n",
      "223\n",
      "223\n",
      "223\n",
      "223\n",
      "223\n",
      "223\n",
      "223\n",
      "223\n",
      "223\n",
      "223\n",
      "223\n",
      "223\n",
      "223\n",
      "223\n",
      "223\n",
      "223\n",
      "223\n",
      "223\n",
      "223\n",
      "223\n",
      "223\n",
      "223\n",
      "223\n",
      "223\n",
      "223\n",
      "223\n",
      "223\n",
      "223\n",
      "223\n",
      "223\n",
      "223\n",
      "223\n",
      "223\n",
      "223\n",
      "223\n",
      "223\n",
      "223\n",
      "223\n",
      "223\n",
      "223\n",
      "223\n",
      "223\n",
      "223\n",
      "223\n",
      "223\n",
      "223\n",
      "223\n",
      "223\n",
      "223\n",
      "223\n",
      "223\n",
      "223\n",
      "223\n",
      "223\n",
      "223\n",
      "223\n",
      "223\n",
      "223\n",
      "223\n",
      "223\n",
      "223\n",
      "223\n",
      "223\n",
      "223\n",
      "223\n",
      "223\n",
      "223\n",
      "223\n",
      "223\n",
      "223\n",
      "223\n",
      "223\n",
      "223\n",
      "223\n",
      "223\n",
      "223\n",
      "223\n",
      "223\n",
      "223\n",
      "223\n",
      "223\n",
      "223\n",
      "223\n",
      "223\n",
      "223\n",
      "223\n",
      "223\n",
      "223\n",
      "223\n",
      "223\n",
      "223\n",
      "223\n",
      "223\n",
      "223\n",
      "223\n",
      "223\n",
      "223\n",
      "223\n",
      "223\n",
      "223\n",
      "223\n",
      "223\n",
      "223\n",
      "223\n",
      "223\n",
      "223\n",
      "223\n",
      "223\n",
      "223\n",
      "223\n",
      "223\n",
      "223\n",
      "223\n",
      "223\n",
      "223\n",
      "223\n",
      "223\n",
      "223\n",
      "223\n",
      "223\n",
      "223\n",
      "223\n",
      "223\n",
      "223\n",
      "223\n",
      "223\n",
      "223\n",
      "223\n",
      "223\n",
      "223\n",
      "223\n",
      "223\n"
     ]
    }
   ],
   "source": [
    "n = int(input(\"Inserisci un numero intero positivo:\"))\n",
    "\n",
    "for x in range(1,n+1):\n",
    "    print(n)"
   ]
  },
  {
   "cell_type": "markdown",
   "id": "5d6df896",
   "metadata": {},
   "source": [
    "# Calcolare la Somma #"
   ]
  },
  {
   "cell_type": "code",
   "execution_count": 28,
   "id": "83d3bbf9",
   "metadata": {},
   "outputs": [
    {
     "name": "stdout",
     "output_type": "stream",
     "text": [
      "Inserisci un numero intero positivo: 23\n",
      "La somma dei primi 23 numeri interi è: 529\n"
     ]
    }
   ],
   "source": [
    "n = int(input(\"Inserisci un numero intero positivo: \"))\n",
    "somma = 0\n",
    "\n",
    "for x in range(1, n+1):\n",
    "    somma += n\n",
    "print(\"La somma dei primi\", n, \"numeri interi è:\", somma)"
   ]
  },
  {
   "cell_type": "markdown",
   "id": "7b282266",
   "metadata": {},
   "source": [
    "# Calcolare il Quadrato dei Primi Numeri #"
   ]
  },
  {
   "cell_type": "code",
   "execution_count": null,
   "id": "1dd1b108",
   "metadata": {},
   "outputs": [],
   "source": [
    "n = int(input(\"Inserisci un numero intero positivo: \"))\n",
    "\n",
    "print(\"Quadrati dei primi\", n, \"numeri:\")\n",
    "\n",
    "for x in range (1, n+1):\n",
    "    quadrato = n ** 2\n",
    "    print(\"Il quadrato di\", n, \"è\", quadrato)"
   ]
  },
  {
   "cell_type": "markdown",
   "id": "0028a668",
   "metadata": {},
   "source": [
    "# Verificare la Parità #"
   ]
  },
  {
   "cell_type": "code",
   "execution_count": null,
   "id": "172ac0ba",
   "metadata": {},
   "outputs": [],
   "source": [
    "numero = int(input(\"Inserisci un numero: \"))\n",
    "\n",
    "\n",
    "if numero % 2 == 0:\n",
    "    print(numero, \"é un numero pari.\")\n",
    "else:\n",
    "    print(numero, \"è un numero dispari.\")"
   ]
  },
  {
   "cell_type": "markdown",
   "id": "d23b0ee9",
   "metadata": {},
   "source": [
    "# Calcolare il Fattoriale #"
   ]
  },
  {
   "cell_type": "code",
   "execution_count": 34,
   "id": "6660362a",
   "metadata": {},
   "outputs": [
    {
     "name": "stdout",
     "output_type": "stream",
     "text": [
      "Inserire un numero intero positivo: 3\n",
      "Il fattoriale di 3 è: 27\n"
     ]
    }
   ],
   "source": [
    "n = int(input(\"Inserire un numero intero positivo: \"))\n",
    "fattoriale = 1\n",
    "\n",
    "for x in range(1, n+1):\n",
    "    fattoriale *= n\n",
    "print(\"Il fattoriale di\", n, \"è:\", fattoriale)"
   ]
  },
  {
   "cell_type": "markdown",
   "id": "f83c2229",
   "metadata": {},
   "source": [
    "# Calcolare la media di una Lista di Numeri #"
   ]
  },
  {
   "cell_type": "code",
   "execution_count": 1,
   "id": "cbf6b65d",
   "metadata": {},
   "outputs": [
    {
     "name": "stdout",
     "output_type": "stream",
     "text": [
      "Quanti numeri vuoi inserire= 3\n",
      "Inserisci un numero: 2\n",
      "Inserisci un numero: 4\n",
      "Inserisci un numero: 6\n",
      "La media dei numeri inseriti è: 4.0 [2.0, 4.0, 6.0]\n"
     ]
    }
   ],
   "source": [
    "numeri = [] #Lista vuota di nome numeri\n",
    "\n",
    "n = int(input(\"Quanti numeri vuoi inserire= \")) #Chiede quanti numeri voglio inserire dentro la lista vuota\n",
    "\n",
    "#chiede un numero per quanto hai detto alla prima domanda\n",
    "for i in range(n):\n",
    "    numero = float(input(\"Inserisci un numero: \"))\n",
    "    numeri.append(numero) #mette il numero inserito dopo quello precedente\n",
    "    \n",
    "media = sum(numeri) / len(numeri) #Somma numeri dentro la lista e divide per lunghezza di quanti elementi ci sono\n",
    "\n",
    "print(\"La media dei numeri inseriti è:\", media, numeri)"
   ]
  },
  {
   "cell_type": "markdown",
   "id": "a71d067e",
   "metadata": {},
   "source": [
    "# Gioco dell'Indovinello #"
   ]
  },
  {
   "cell_type": "code",
   "execution_count": 2,
   "id": "025da9b8",
   "metadata": {},
   "outputs": [
    {
     "name": "stdout",
     "output_type": "stream",
     "text": [
      "Indovina il numero (1-100): 2\n",
      "Il numero è più grande\n",
      "Indovina il numero (1-100): 50\n",
      "Il numero è più piccolo\n",
      "Indovina il numero (1-100): 43\n",
      "Il numero è più piccolo\n",
      "Indovina il numero (1-100): 30\n",
      "Il numero è più piccolo\n",
      "Indovina il numero (1-100): 20\n",
      "Il numero è più piccolo\n",
      "Indovina il numero (1-100): 12\n",
      "Il numero è più piccolo\n",
      "Indovina il numero (1-100): 10\n",
      "Il numero è più grande\n",
      "Indovina il numero (1-100): 11\n",
      "Bravo! Hai indovinato il numero 11 in 8 tentativi\n"
     ]
    }
   ],
   "source": [
    "import random #importa la libreria del random\n",
    "\n",
    "numero_da_indovinare =random.randint(1, 100) #spara un numero da 1 a 100\n",
    "tentativi = 0\n",
    "\n",
    "#chiede un numero\n",
    "while True:\n",
    "    tentativo = int(input(\"Indovina il numero (1-100): \"))\n",
    "    tentativi += 1\n",
    "    \n",
    "    if tentativo == numero_da_indovinare:\n",
    "        print(\"Bravo! Hai indovinato il numero\", numero_da_indovinare, \"in\", tentativi, \"tentativi\")\n",
    "        break\n",
    "    elif tentativo < numero_da_indovinare:\n",
    "        print(\"Il numero è più grande\")\n",
    "    else:\n",
    "        print(\"Il numero è più piccolo\")"
   ]
  },
  {
   "cell_type": "markdown",
   "id": "04b38c61",
   "metadata": {},
   "source": [
    "# MORRA CINESE #"
   ]
  },
  {
   "cell_type": "code",
   "execution_count": 4,
   "id": "eb557959",
   "metadata": {},
   "outputs": [
    {
     "name": "stdout",
     "output_type": "stream",
     "text": [
      "Benvenuti al gioco del Morra Cinese!\n",
      "Scegli la tua mossa (Carta, forbici, sasso): carta\n",
      "Il computer ha scelto: forbice\n",
      "Hai Perso!\n"
     ]
    }
   ],
   "source": [
    "import random\n",
    "\n",
    "mosse = [\"carta\", \"forbice\", \"sasso\"]\n",
    "\n",
    "computer_mossa = random.choice(mosse)\n",
    "\n",
    "print(\"Benvenuti al gioco del Morra Cinese!\")\n",
    "scelta_giocatore = input(\"Scegli la tua mossa (Carta, forbici, sasso): \")\n",
    "\n",
    "if scelta_giocatore not in mosse:\n",
    "    print(\"Mossa non permessa\")\n",
    "else:\n",
    "    print(\"Il computer ha scelto:\", computer_mossa)\n",
    "    if scelta_giocatore == computer_mossa:\n",
    "        print(\"Pareggio!\")\n",
    "    elif (scelta_giocatore == \"carta\" and computer_mossa == \"sasso\") or \\\n",
    "         (scelta_giocatore == \"forbici\" and computer_mossa == \"carta\") or \\\n",
    "         (scelta_giocatore == \"sasso\" and computer_mossa == \"forbici\"):\n",
    "        print(\"Hai Vinto!\")\n",
    "    else:\n",
    "        print(\"Hai Perso!\")"
   ]
  },
  {
   "cell_type": "markdown",
   "id": "0d4a9ddf",
   "metadata": {},
   "source": [
    "# Calcolo del fattoriale #"
   ]
  },
  {
   "cell_type": "code",
   "execution_count": 5,
   "id": "6a078f6d",
   "metadata": {},
   "outputs": [
    {
     "name": "stdout",
     "output_type": "stream",
     "text": [
      "Inserisci un numero intero: 3\n",
      "Il fattoriale di 3 è 27\n"
     ]
    }
   ],
   "source": [
    "n = int(input(\"Inserisci un numero intero: \"))\n",
    "\n",
    "fattoriale = 1\n",
    "\n",
    "if n<0:\n",
    "    print(\"Numero Negativo\")\n",
    "elif n ==0:\n",
    "    print(\"Il numero di zero è un 1 per definizione\")\n",
    "else:\n",
    "    for x in range(1, n+1):\n",
    "        fattoriale*=n\n",
    "print(f\"Il fattoriale di {n} è {fattoriale}\")"
   ]
  },
  {
   "cell_type": "markdown",
   "id": "9eea10ad",
   "metadata": {},
   "source": [
    "# somma numeri n #"
   ]
  },
  {
   "cell_type": "code",
   "execution_count": 6,
   "id": "10e99723",
   "metadata": {},
   "outputs": [
    {
     "name": "stdout",
     "output_type": "stream",
     "text": [
      "Inserisci un numero intero positivo N: 22\n",
      "la somma dei primi 22 numeri pari è 132.0\n"
     ]
    }
   ],
   "source": [
    "# Chiedere all'utente d'inserire un numero imtero positivo N\n",
    "\n",
    "N = int(input(\"Inserisci un numero intero positivo N: \"))\n",
    "\n",
    "# Inizializzare la somma a zero\n",
    "somma = 0\n",
    "\n",
    "# Calcolare la somma dei primi N numeri pari\n",
    "for x in range(2, 2 * N + 1, 2):\n",
    "    somma += numero\n",
    "    \n",
    "# Stampare la somma\n",
    "print(f\"la somma dei primi {N} numeri pari è {somma}\")"
   ]
  },
  {
   "cell_type": "markdown",
   "id": "19f8b2fb",
   "metadata": {},
   "source": [
    "# CONTA VOCALI IN UNA FRASE #"
   ]
  },
  {
   "cell_type": "code",
   "execution_count": 7,
   "id": "b95e04b1",
   "metadata": {},
   "outputs": [
    {
     "name": "stdout",
     "output_type": "stream",
     "text": [
      "Inserisci una frase o una parola: 13\n",
      "nella frase ci sono 0 vocali\n"
     ]
    }
   ],
   "source": [
    "# Chiedere all'utente d'inserire una frase o una parola\n",
    "\n",
    "frase  = input(\"Inserisci una frase o una parola: \").lower() #Converti tutto in minuscolo per semplificare il contaggio\n",
    "\n",
    "# Inizializzare il contatore delle vocali\n",
    "conteggio_vocali = 0\n",
    "\n",
    "# Definisci le vocali da cercare\n",
    "vocali = \"aeiou\"\n",
    "\n",
    "# scansione ogni carattere nella frase\n",
    "for carattere in frase:\n",
    "    # Verifica se il carattere è una vocale\n",
    "    if carattere in vocali:\n",
    "        conteggio_vocali += 1\n",
    "    \n",
    "# Stampare la somma\n",
    "print(f\"nella frase ci sono {conteggio_vocali} vocali\")"
   ]
  },
  {
   "cell_type": "code",
   "execution_count": 8,
   "id": "6b185f74",
   "metadata": {},
   "outputs": [
    {
     "name": "stdout",
     "output_type": "stream",
     "text": [
      "Inserisci un numero intero positivo N: 3\n",
      "[3, 3, 3]\n"
     ]
    }
   ],
   "source": [
    "# Chiedere all'utente di inserire un nuerp intero positivo N\n",
    "N = int(input(\"Inserisci un numero intero positivo N: \"))\n",
    "lista = []\n",
    "\n",
    "\n",
    "# Calcolare la somma dei primi n numeri pari\n",
    "for x in range(2, 2 * N + 1,2):\n",
    "    lista.append(n)\n",
    "    \n",
    "print(lista)"
   ]
  },
  {
   "cell_type": "markdown",
   "id": "56eebab1",
   "metadata": {},
   "source": [
    "# IDNOVINA IL NUMERO DI DADO CASUALE (1 a 6) #"
   ]
  },
  {
   "cell_type": "code",
   "execution_count": 9,
   "id": "412b9a0e",
   "metadata": {},
   "outputs": [
    {
     "name": "stdout",
     "output_type": "stream",
     "text": [
      "Indovina il numero del dado (da 1 a 6): 3\n",
      "Mi dispiae, il numero del dado era 1. Meglio fortuna la prossima volta!\n"
     ]
    }
   ],
   "source": [
    "import random\n",
    "\n",
    "# Genera un numero casuale da 1 a 6(simulando un lanco di un dado)\n",
    "numero_dado = random.randint(1, 6)\n",
    "\n",
    "# Chiedi all'utente d'indovinare il numero\n",
    "indovina = int(input(\"Indovina il numero del dado (da 1 a 6): \"))\n",
    "\n",
    "# Verifica se l'utente ha indovinato correttamente\n",
    "if indovina <1 or indovina <0:\n",
    "    print(\"numero non ammesso\")\n",
    "elif indovina == numero_dado:\n",
    "    print(f\"Complimenti il numero del dardo era {numero_dado}. Hai indovinato!\")\n",
    "else:\n",
    "    print(f\"Mi dispiae, il numero del dado era {numero_dado}. Meglio fortuna la prossima volta!\")"
   ]
  },
  {
   "cell_type": "markdown",
   "id": "90fe23cf",
   "metadata": {},
   "source": [
    "# SIMULAZIONE POPOLAZIONE #"
   ]
  },
  {
   "cell_type": "code",
   "execution_count": 10,
   "id": "7e0fb30a",
   "metadata": {},
   "outputs": [
    {
     "name": "stdout",
     "output_type": "stream",
     "text": [
      "inserisci popolazione iniziale: 12\n",
      "Inserisci il numero di anni da simulare: 13\n",
      "Inserisci tasso natalità: 41\n",
      "Inserisci tasso mortalità: 15\n",
      "Anno 13, Popolazione 15\n",
      "Anno 13, Popolazione 19\n",
      "Anno 13, Popolazione 24\n",
      "Anno 13, Popolazione 30\n",
      "Anno 13, Popolazione 38\n",
      "Anno 13, Popolazione 48\n",
      "Anno 13, Popolazione 60\n",
      "Anno 13, Popolazione 76\n",
      "Anno 13, Popolazione 96\n",
      "Anno 13, Popolazione 121\n",
      "Anno 13, Popolazione 152\n",
      "Anno 13, Popolazione 192\n",
      "Anno 13, Popolazione 242\n",
      "Simulazione completata\n"
     ]
    }
   ],
   "source": [
    "# Inizializza la popolazione e gli anni\n",
    "popolazione = int(input(\"inserisci popolazione iniziale: \"))\n",
    "anni = int(input(\"Inserisci il numero di anni da simulare: \"))\n",
    "# Tasso di natalità e tasso di mortalità (% annuale)\n",
    "tasso_natalità = float(input(\"Inserisci tasso natalità: \"))\n",
    "tasso_mortalità = float(input(\"Inserisci tasso mortalità: \"))\n",
    "\n",
    "\n",
    "# Simulazione della crescita della popolazione\n",
    "for anno in range(anni):\n",
    "    nascite = (popolazione * tasso_natalità) / 100\n",
    "    morti = (popolazione * tasso_mortalità) / 100\n",
    "    popolazione += (nascite - morti)\n",
    "    \n",
    "    print(f\"Anno {anno}, Popolazione {int(popolazione)}\")\n",
    "    \n",
    "print(\"Simulazione completata\")"
   ]
  },
  {
   "cell_type": "markdown",
   "id": "7f818f1a",
   "metadata": {},
   "source": [
    "# dire giorno ed ora con datetime #"
   ]
  },
  {
   "cell_type": "code",
   "execution_count": 11,
   "id": "cb57400a",
   "metadata": {},
   "outputs": [
    {
     "name": "stdout",
     "output_type": "stream",
     "text": [
      "oggi è il giorno: 10 11 23,  ore: 12 25 57\n"
     ]
    }
   ],
   "source": [
    "import datetime\n",
    "\n",
    "today = datetime.datetime.today()\n",
    "print(f\"oggi è il giorno:{today: %d %m %y},  ore:{today: %H %M %S}\")"
   ]
  },
  {
   "cell_type": "code",
   "execution_count": 12,
   "id": "078ec7b9",
   "metadata": {},
   "outputs": [
    {
     "name": "stdout",
     "output_type": "stream",
     "text": [
      "Benvenuto nel convertitore di misura!\n",
      "Cosa desideri convertire? (meters/foot/kilos/lbs): meters\n",
      "Inserisci il valore in meters: 10\n",
      "10.0 meters corrispondono = 32.803399999999996 foot.\n"
     ]
    }
   ],
   "source": [
    "\n",
    "print(\"Benvenuto nel convertitore di misura!\")\n",
    "scelta = input(\"Cosa desideri convertire? (meters/foot/kilos/lbs): \").lower()\n",
    "\n",
    "if scelta == \"meters\":\n",
    "    valore = float(input(\"Inserisci il valore in meters: \"))\n",
    "    risultato = valore * 3.28034\n",
    "    print(f\"{valore} meters corrispondono = {risultato} foot.\")\n",
    "    \n",
    "elif scelta == \"foot\":\n",
    "    valore = float(input(\"Inserisci il valore in foot: \"))\n",
    "    risultato = valore * 0.3048\n",
    "    print(f\"{valore} foot corrispondono = {risultato} meters.\")\n",
    "    \n",
    "elif scelta == \"chilogrammi\":\n",
    "    valore = float(input(\"Inserisci il valore in chilogrammi: \"))\n",
    "    risultato = valore * 2.2046\n",
    "    print(f\"{valore} chilogrammi corrispondono = {risultato} lbs.\")\n",
    "    \n",
    "elif scelta == \"lbs\":\n",
    "    valore = float(input(\"Inserisci il valore in lbs: \"))\n",
    "    risultato = valore * 3.28034\n",
    "    print(f\"{valore} lbs corrispondono = {risultato} chilogrammi.\")"
   ]
  },
  {
   "cell_type": "markdown",
   "id": "bb030805",
   "metadata": {},
   "source": [
    "# FIBONACCI #"
   ]
  },
  {
   "cell_type": "code",
   "execution_count": 14,
   "id": "1ebbefcf",
   "metadata": {},
   "outputs": [
    {
     "name": "stdout",
     "output_type": "stream",
     "text": [
      "Inserisci un numeor n per calcolare l'n-esimo numero di Fibonacci: 5\n",
      "l'n-esimo numero di fibonacci è: 3\n"
     ]
    }
   ],
   "source": [
    "# Chiedere all'utente d'inserire un numero n\n",
    "n = int(input(\"Inserisci un numeor n per calcolare l'n-esimo numero di Fibonacci: \"))\n",
    "#inizializzare le variabili per i primi due numeri di fibonacci\n",
    "a=0\n",
    "b=1\n",
    "c=1\n",
    "\n",
    "# Calcolare l'n-esimo numero di fibonacci\n",
    "if n <= 0:\n",
    "    print(\"il numero deve essere maggiore di 0\")\n",
    "elif n == 1:\n",
    "    risultato = a\n",
    "else:\n",
    "    for iterazione in range(n-3):\n",
    "        a = b\n",
    "        b = c\n",
    "        c = a + b\n",
    "    risultato = c\n",
    "# Stampare l'n-esio numero di fibonacci\n",
    "print(\"l'n-esimo numero di fibonacci è:\", risultato)"
   ]
  },
  {
   "cell_type": "markdown",
   "id": "1bfa1da1",
   "metadata": {},
   "source": [
    "# FUNZIONI CUSTOM #"
   ]
  },
  {
   "cell_type": "code",
   "execution_count": 2,
   "id": "40ad4e3c",
   "metadata": {},
   "outputs": [],
   "source": [
    "def fibonacci(n):\n",
    "    fib_series = [0, 1]\n",
    "    \n",
    "    while len(fib_series) < n:\n",
    "        fib_series.append(fib_series[-1] + fib_series[-2])\n",
    "        \n",
    "    return fib_series"
   ]
  },
  {
   "cell_type": "code",
   "execution_count": 3,
   "id": "c506c86b",
   "metadata": {},
   "outputs": [
    {
     "data": {
      "text/plain": [
       "[0, 1, 1, 2, 3, 5, 8, 13, 21]"
      ]
     },
     "execution_count": 3,
     "metadata": {},
     "output_type": "execute_result"
    }
   ],
   "source": [
    "fibonacci(9)"
   ]
  },
  {
   "cell_type": "code",
   "execution_count": 4,
   "id": "ef16a660",
   "metadata": {},
   "outputs": [
    {
     "name": "stdout",
     "output_type": "stream",
     "text": [
      "Benvenuro nella calcolatrice di aree\n",
      "Vuoi calcolare l'area di un cerchio (c), rettangolo (r), triangolo (t): c\n",
      "Inserisci il raggio del cerchio: 13\n",
      "L'area del cerchio è  530.93\n"
     ]
    }
   ],
   "source": [
    "import math\n",
    "\n",
    "def calcola_area_cerchio(raggio):\n",
    "    return math.pi * (raggio ** 2)\n",
    "\n",
    "def calcola_area_rettangolo(base, altezza):\n",
    "    return base * altezza\n",
    "\n",
    "def calcola_area_triangolo(base, altezza):\n",
    "    return (base * altezza) / 2\n",
    "\n",
    "print(\"Benvenuro nella calcolatrice di aree\")\n",
    "\n",
    "scelta = input(\"Vuoi calcolare l'area di un cerchio (c), rettangolo (r), triangolo (t): \").lower()\n",
    "\n",
    "if scelta == 'c':\n",
    "    raggio = float(input(\"Inserisci il raggio del cerchio: \"))\n",
    "    area = calcola_area_cerchio(raggio)\n",
    "    print(f\"L'area del cerchio è {area: .2f}\")\n",
    "elif scelta == 'r':\n",
    "    base = float(input(\"Inserisci la base del rettangolo: \"))\n",
    "    altezza = float(input(\"Inserisci l'altezza del rettangolo: \"))\n",
    "    area = calcola_area_rettangolo(base, altezza)\n",
    "    print(f\"L'area del rettangolo è {area:.2f}\")\n",
    "elif scelta == 't':\n",
    "    base = float(input(\"inserisci la base del triangolo: \"))\n",
    "    altezza = float(input(\"Inserisci l'altezza del triangolo: \"))\n",
    "    area = calcola_area_triangolo(base, altezza)\n",
    "    print(f\"l'area del triangolo è {area:-2f}\") #{area:-2f} significa di stampare il valore AREA ma massimo 2 numeri dopo virgola\n",
    "else:\n",
    "    print(\"Scelta non valida, riprova\")"
   ]
  },
  {
   "cell_type": "markdown",
   "id": "ecd7e4ae",
   "metadata": {},
   "source": [
    "# calcolo interessi #"
   ]
  },
  {
   "cell_type": "code",
   "execution_count": 6,
   "id": "ca95f19d",
   "metadata": {},
   "outputs": [],
   "source": [
    "def calcola_interessi(importo_iniziale, tasso_interesse, periodi_investimento):\n",
    "    importo_finale = importo_iniziale * (1 + tasso_interesse / 100) ** periodi_investimento\n",
    "    return importo_finale"
   ]
  },
  {
   "cell_type": "code",
   "execution_count": 7,
   "id": "d1bfc875",
   "metadata": {},
   "outputs": [
    {
     "name": "stdout",
     "output_type": "stream",
     "text": [
      "Benvetuo nel Calolatore d'interessi!\n",
      "Inserisci l'importo iniziale: 13\n",
      "Inserisci il tasso d'interesse annuale (%): 14\n",
      "Inserisci il periodo d'investimento (anni): 5\n",
      "l'importo finale dopo 5 anni è di 25.03 euro.\n"
     ]
    }
   ],
   "source": [
    "print(\"Benvetuo nel Calolatore d'interessi!\")\n",
    "\n",
    "importo = float(input(\"Inserisci l'importo iniziale: \"))\n",
    "tasso = float(input(\"Inserisci il tasso d'interesse annuale (%): \"))\n",
    "periodo = int(input(\"Inserisci il periodo d'investimento (anni): \"))\n",
    "\n",
    "importo_finale = calcola_interessi(importo, tasso, periodo)\n",
    "\n",
    "print(f\"l'importo finale dopo {periodo} anni è di {importo_finale:.2f} euro.\")"
   ]
  },
  {
   "cell_type": "markdown",
   "id": "01adf3c2",
   "metadata": {},
   "source": [
    "# Calcolo forza gravitazionale 2 pianeti #"
   ]
  },
  {
   "cell_type": "code",
   "execution_count": 8,
   "id": "a751c044",
   "metadata": {},
   "outputs": [],
   "source": [
    "def forza_gravitazionale(m1, m2, r):\n",
    "    #costante gravitazioamel\n",
    "    G = 6.67430e-11 #N(m/gk)^2\n",
    "    \n",
    "    #Calcola dela forza gravitazionale\n",
    "    F = (G * m1 * m2) / (r ** 2)\n",
    "    \n",
    "    return F"
   ]
  },
  {
   "cell_type": "code",
   "execution_count": 9,
   "id": "e00b72c5",
   "metadata": {},
   "outputs": [
    {
     "name": "stdout",
     "output_type": "stream",
     "text": [
      "forza gravitazionale tra la terra e la luna: 1.9804922390990566e+20 Newton\n"
     ]
    }
   ],
   "source": [
    "#esempio di utilizzo\n",
    "massa_terra = 5.972e24 #kg\n",
    "massa_luna = 7.342e22 #kg\n",
    "distanza_terra_luna = 384400000 #metri\n",
    "\n",
    "forza = forza_gravitazionale(massa_terra, massa_luna, distanza_terra_luna)\n",
    "print(f\"forza gravitazionale tra la terra e la luna: {forza} Newton\")"
   ]
  },
  {
   "cell_type": "markdown",
   "id": "0bc3cf6a",
   "metadata": {},
   "source": [
    "### calcola anagrammi #"
   ]
  },
  {
   "cell_type": "code",
   "execution_count": 10,
   "id": "ef5c9060",
   "metadata": {},
   "outputs": [
    {
     "name": "stdout",
     "output_type": "stream",
     "text": [
      "Benvenuto nel risolutore di anagrammi!\n",
      "Inserisci una parola: ciao\n",
      "gli anagrammi di 'ciao' sono: '0'\n",
      "cioa\n",
      "gli anagrammi di 'ciao' sono: '1'\n",
      "caio\n",
      "gli anagrammi di 'ciao' sono: '2'\n",
      "caoi\n",
      "gli anagrammi di 'ciao' sono: '3'\n",
      "coia\n",
      "gli anagrammi di 'ciao' sono: '4'\n",
      "coai\n",
      "gli anagrammi di 'ciao' sono: '5'\n",
      "icao\n",
      "gli anagrammi di 'ciao' sono: '6'\n",
      "icoa\n",
      "gli anagrammi di 'ciao' sono: '7'\n",
      "iaco\n",
      "gli anagrammi di 'ciao' sono: '8'\n",
      "iaoc\n",
      "gli anagrammi di 'ciao' sono: '9'\n",
      "ioca\n",
      "gli anagrammi di 'ciao' sono: '10'\n",
      "ioac\n",
      "gli anagrammi di 'ciao' sono: '11'\n",
      "acio\n",
      "gli anagrammi di 'ciao' sono: '12'\n",
      "acoi\n",
      "gli anagrammi di 'ciao' sono: '13'\n",
      "aico\n",
      "gli anagrammi di 'ciao' sono: '14'\n",
      "aioc\n",
      "gli anagrammi di 'ciao' sono: '15'\n",
      "aoci\n",
      "gli anagrammi di 'ciao' sono: '16'\n",
      "aoic\n",
      "gli anagrammi di 'ciao' sono: '17'\n",
      "ocia\n",
      "gli anagrammi di 'ciao' sono: '18'\n",
      "ocai\n",
      "gli anagrammi di 'ciao' sono: '19'\n",
      "oica\n",
      "gli anagrammi di 'ciao' sono: '20'\n",
      "oiac\n",
      "gli anagrammi di 'ciao' sono: '21'\n",
      "oaci\n",
      "gli anagrammi di 'ciao' sono: '22'\n",
      "oaic\n",
      "gli anagrammi di 'ciao' sono: '23'\n"
     ]
    }
   ],
   "source": [
    "from itertools import permutations\n",
    "k=0\n",
    "\n",
    "def trova_anagrammi(parola):\n",
    "    anagrammi = [\"\".join(p) for p in permutations(parola)]\n",
    "                #unisce elementi in permutations di parola\n",
    "                #for p in permutations(parola):\n",
    "                #   anagrammi = [\"\".join(p)]\n",
    "    return anagrammi\n",
    "\n",
    "print(\"Benvenuto nel risolutore di anagrammi!\")\n",
    "\n",
    "parola_input = input(\"Inserisci una parola: \").strip().lower()\n",
    "\n",
    "if len(parola_input) < 2:\n",
    "    print(\"Inserisci una parola con almeno 2 caratteri: \")\n",
    "else:\n",
    "    anagrammi = trova_anagrammi(parola_input)\n",
    "    \n",
    "    for anagramma in anagrammi:\n",
    "        if anagramma != parola_input:\n",
    "            k+=1\n",
    "            print(anagramma)\n",
    "        print(f\"gli anagrammi di '{parola_input}' sono: '{k}'\")"
   ]
  },
  {
   "cell_type": "markdown",
   "id": "b68470f9",
   "metadata": {},
   "source": [
    "# dizionario #"
   ]
  },
  {
   "cell_type": "code",
   "execution_count": 12,
   "id": "a6d946df",
   "metadata": {},
   "outputs": [
    {
     "name": "stdout",
     "output_type": "stream",
     "text": [
      "Inserisci l'importo da convertire: 10\n",
      "Inserisci la valuta di partenza: euro\n",
      "Inserisci la valuta di destinazione: dollari\n",
      "10.0 euro sono equivalenti a 11.76 dollari\n"
     ]
    }
   ],
   "source": [
    "# Definizione dei tassi di cambio\n",
    "\n",
    "tassi_di_cambio= {\n",
    "    \"dollari\": 1.0,\n",
    "    \"euro\": 0.85,\n",
    "    \"yen\": 110.41,\n",
    "    # aggiungi altre valute e tassi di cambio se necessario\n",
    "}\n",
    "\n",
    "# Chiedi all'utente d'inserire l'importo, la valuta di partenza e la valuta di destinazione\n",
    "importo = float(input(\"Inserisci l'importo da convertire: \"))\n",
    "valuta_di_partenza = input(\"Inserisci la valuta di partenza: \").lower()\n",
    "valuta_destinazione = input(\"Inserisci la valuta di destinazione: \").lower()\n",
    "\n",
    "#Verifica se le valute sono nel dizionari dei tassi di cambio\n",
    "if valuta_di_partenza in tassi_di_cambio and valuta_destinazione in tassi_di_cambio:\n",
    "    #Calcola il tasso di cambio e l'importo converitto\n",
    "    tasso_di_cambio = tassi_di_cambio[valuta_destinazione] / tassi_di_cambio[valuta_di_partenza]\n",
    "    importo_convertito = importo * tasso_di_cambio\n",
    "\n",
    "#stampa il risultato\n",
    "    print(f\"{importo} {valuta_di_partenza} sono equivalenti a {importo_convertito:.2f} {valuta_destinazione}\")\n",
    "else:\n",
    "    print(\"Valute non supportate. Assicurati di inserire valute valide.\")\n",
    "    "
   ]
  },
  {
   "cell_type": "code",
   "execution_count": 13,
   "id": "dd2444f4",
   "metadata": {},
   "outputs": [
    {
     "data": {
      "text/plain": [
       "0.85"
      ]
     },
     "execution_count": 13,
     "metadata": {},
     "output_type": "execute_result"
    }
   ],
   "source": [
    "tassi_di_cambio[\"euro\"]"
   ]
  },
  {
   "cell_type": "code",
   "execution_count": 14,
   "id": "128c9b88",
   "metadata": {},
   "outputs": [
    {
     "name": "stdout",
     "output_type": "stream",
     "text": [
      "Inserisci una frase: sono magico\n",
      "a: 1\n",
      "c: 1\n",
      "g: 1\n",
      "i: 1\n",
      "m: 1\n",
      "n: 1\n",
      "o: 3\n",
      "s: 1\n"
     ]
    }
   ],
   "source": [
    "# Chiedi all'utente di inserire una frase\n",
    "frase = input(\"Inserisci una frase: \")\n",
    "\n",
    "# Converti la frase in minuscolo per evitare proemi di maiuscole/minuscole\n",
    "frase = frase.lower()\n",
    "\n",
    "# Inizializza una lista di lettere dell'alfabeto\n",
    "alfabeto = 'abcdefghijklmnopqrstuvwxyz'\n",
    "\n",
    "# Inizializza un dizionare per tenere traccia del conteggio delle lettere\n",
    "conteggio_lettere = {}\n",
    "\n",
    "# Itera attraverso ciascuna lettera dell'alfabeto\n",
    "for lettera in alfabeto:\n",
    "    #Conta quante volte apare a lettere dell'alfabeto\n",
    "    conteggio = frase.count(lettera)\n",
    "    \n",
    "    #Aggiungi la lettera e il conteggio al dizionare se la lettera appare almeno una volta\n",
    "    if conteggio > 0:\n",
    "        conteggio_lettere[lettera] = conteggio\n",
    "        \n",
    "#stampa il conteggio delle lettere in un formato leggibile\n",
    "for lettera, conteggio in conteggio_lettere.items():\n",
    "    print(f\"{lettera}: {conteggio}\")"
   ]
  },
  {
   "cell_type": "code",
   "execution_count": 15,
   "id": "b5868aeb",
   "metadata": {},
   "outputs": [
    {
     "data": {
      "text/plain": [
       "dict_items([('a', 1), ('c', 1), ('g', 1), ('i', 1), ('m', 1), ('n', 1), ('o', 3), ('s', 1)])"
      ]
     },
     "execution_count": 15,
     "metadata": {},
     "output_type": "execute_result"
    }
   ],
   "source": [
    "conteggio_lettere.items()"
   ]
  },
  {
   "cell_type": "code",
   "execution_count": 16,
   "id": "ae97ba0e",
   "metadata": {},
   "outputs": [],
   "source": [
    "prodotti = {}\n",
    "prodotti[\"pan bauletto\"] = 2\n",
    "prodotti[\"coca cola\"] = 3"
   ]
  },
  {
   "cell_type": "code",
   "execution_count": 17,
   "id": "37107f59",
   "metadata": {},
   "outputs": [
    {
     "data": {
      "text/plain": [
       "{'pan bauletto': 2, 'coca cola': 3}"
      ]
     },
     "execution_count": 17,
     "metadata": {},
     "output_type": "execute_result"
    }
   ],
   "source": [
    "prodotti"
   ]
  },
  {
   "cell_type": "code",
   "execution_count": null,
   "id": "d2b6f938",
   "metadata": {},
   "outputs": [
    {
     "name": "stdout",
     "output_type": "stream",
     "text": [
      "Benvetuo nell'orologio mondiale\n",
      "\n",
      "Città disponibili:\n",
      "New York\n",
      "Inserisci il nome della città per visualizzare l'ora (o 'esci' per uscire): Tokio\n",
      "Londra\n",
      "Inserisci il nome della città per visualizzare l'ora (o 'esci' per uscire): New York\n",
      "Tokyo\n",
      "Inserisci il nome della città per visualizzare l'ora (o 'esci' per uscire): Londra\n",
      "Sydney\n"
     ]
    }
   ],
   "source": [
    "from datetime import datetime\n",
    "import pytz\n",
    "\n",
    "print(\"Benvetuo nell'orologio mondiale\")\n",
    "\n",
    "# Definisci le città e i relativi fusi orari\n",
    "citta_fusi_orari = {\n",
    "    \"New York\": \"America/New York\",\n",
    "    \"Londra\": \"Europe/London\",\n",
    "    \"Tokyo\": \"Asia/Tokyo\",\n",
    "    \"Sydney\": \"Australia/Sidney\",\n",
    "    \"Rio de Janeiro\": \"America/Sao_Paulo\",\n",
    "}\n",
    "\n",
    "while True:\n",
    "    print(\"\\nCittà disponibili:\")\n",
    "    for citta in citta_fusi_orari.keys():\n",
    "        print(citta)\n",
    "        \n",
    "        scelta_citta = input(\"Inserisci il nome della città per visualizzare l'ora (o 'esci' per uscire): \").strip()\n",
    "        if scelta_citta.lower() == 'esci':\n",
    "            \n",
    "            if scelta_citta in citta_fusi_orari.keys():\n",
    "                fuso_orario = pytz.timezone(citta_fusi_orari[scelta_citta])\n",
    "                ora_corrente = datetime.now(fuso_orario)\n",
    "                print(f\"L'ora corrente a {scelta_citta} è: {ora_corrente.strftime('%H:%M:%S')}\")\n",
    "            else:\n",
    "                print(\"citta non valid. Riprova\")"
   ]
  },
  {
   "cell_type": "markdown",
   "id": "7e61dae3",
   "metadata": {},
   "source": [
    "# Dizionari e main #"
   ]
  },
  {
   "cell_type": "code",
   "execution_count": null,
   "id": "82edf287",
   "metadata": {},
   "outputs": [],
   "source": [
    "# Funzione principale può avere qualsiasi nome\n",
    "def paolo():\n",
    "    print(\"Mi chiamo Paolo\")\n",
    "    \n",
    "if __name__ == \"__main__\" : #è una condizione logica che \"si verifica sempre\" e pertanto tutto ciò\n",
    "                           #che risulta indentato a questa ocondizione viene eseguita\n",
    "    paolo()"
   ]
  },
  {
   "cell_type": "code",
   "execution_count": null,
   "id": "0393e626",
   "metadata": {},
   "outputs": [],
   "source": [
    "#Funzione principale puà avere uqalsiasi nome\n",
    "def main():\n",
    "    print(\"la funzione principale del codice è stata eseguita, in questa ufnzione possono essere presenti funzioni s\")\n",
    "    \n",
    "if __name__ == \"__main__\": \n",
    "    main()"
   ]
  },
  {
   "cell_type": "code",
   "execution_count": null,
   "id": "44401e12",
   "metadata": {},
   "outputs": [],
   "source": [
    "#main\n",
    "# funzoone per il calcolo del BMI\n",
    "def calcola_bmi(peso, altezza):\n",
    "    return peso / (altezza ** 2)\n",
    "\n",
    "#funzione per la valtazione del BMI\n",
    "def valuta_bmi(bmi):\n",
    "    if bmi < 10.5:\n",
    "        return \"Sottopeso\"\n",
    "    elif 10.5 <= bmi < 24.9:\n",
    "        return \"Normopeso\"\n",
    "    elif 25 <= bmi < 29.9:\n",
    "        return \"Sovrappeso\"\n",
    "    else: \n",
    "        return \"Obeso\"\n",
    "    \n",
    "# Funzione principale\n",
    "def main():\n",
    "    print(\"Benvenuto nella calcolatri bmi!\")\n",
    "    peso = float(input(\"Inserisci i tuo peso in chilogrammi: \"))\n",
    "    altezza = float(input(\"Inserisci la tua altezza in metri: \"))\n",
    "    \n",
    "    bmi = calcola_bmi(peso, altezza)\n",
    "    valutazione = valuta_bmi(bmi)\n",
    "    \n",
    "    print(f\"il tuo BMI è {bmi:.2f}, sei classificato come '{valutazione}.'\")\n",
    "    \n",
    "if __name__ == \"__main__\":\n",
    "    main()"
   ]
  },
  {
   "cell_type": "code",
   "execution_count": null,
   "id": "052855af",
   "metadata": {
    "scrolled": true
   },
   "outputs": [],
   "source": [
    "cibo_calorie = {\n",
    "    \"pizza\": 285,\n",
    "    \"hamburger\": 250,\n",
    "    \"insalata\": 100,\n",
    "    \"panino del mc\": 335,\n",
    "    \"yogurt\": 150\n",
    "}\n",
    "\n",
    "#Funzione per calcolare le calorie cosnumate\n",
    "def calorie_consumate(cibo, quantita):\n",
    "    if cibo not in cibo_calorie.keys():\n",
    "        print(\"Cibo non presente\")\n",
    "    elif cibo in cibo_calorie:\n",
    "        calorie_per_100g = cibo_calorie[cibo]\n",
    "        calorie_totali = (calorie_per_100g / 100) * quantita\n",
    "        return calorie_totali\n",
    "    else:\n",
    "        return 0\n",
    "    \n",
    "#Funzione principale\n",
    "def main():\n",
    "    cibo_consumato = []\n",
    "    \n",
    "    while True:\n",
    "        print(\"menù:\")\n",
    "        print(\"\\n 1. aggiungi cibo consmato\")\n",
    "        print(\"\\n 2. calcola calorie totali\")\n",
    "        print(\"\\n 3 esci\")\n",
    "        \n",
    "        scelta = input(\"scegli un opzione: \")\n",
    "        \n",
    "        if scelta == \"1\":\n",
    "            print(\"\\n\")\n",
    "            for key, value in cibo_calorie.items():\n",
    "                print(key,value)\n",
    "                \n",
    "            cibo = input(\"inserisci il cibo consumto: \").lower()\n",
    "            quantita = float(input(\"Inserisci la quantita in grammi: \"))\n",
    "            cibo_consumato.append((cibo,quantita))\n",
    "        elif scelta == \"2\":\n",
    "            calorie_totali = sum(calorie_consumate(c,q) for c, q in cibo_consumato)\n",
    "            print(f\"\\ncalore totali consumate: {calorie_totali} calorie\")\n",
    "        elif scelta == \"3\":\n",
    "            print(\"ok\")\n",
    "            break\n",
    "        else:\n",
    "            print(\"\\nscelta non valida. riprova\")\n",
    "if __name__ == \"__main__\":\n",
    "    main()"
   ]
  },
  {
   "cell_type": "markdown",
   "id": "f9f304b4",
   "metadata": {},
   "source": [
    "Personaggi satorie e romanzi"
   ]
  },
  {
   "cell_type": "code",
   "execution_count": null,
   "id": "82778ee3",
   "metadata": {},
   "outputs": [],
   "source": [
    "import random\n",
    "\n",
    "# Liste di speci, classi, armi e abilità\n",
    "speci = [\"Elfo\", \"Umano\" \"Nano\", \"Orco\", \"Gnomo\"]\n",
    "classi = [\"Guerriero\", \"Mago\", \"Ranger\", \"Ladro\", \"Chierico\"]\n",
    "armi = [\"Spada\", \"Arco\", \"Bacchetta magica\", \"Ascia\", \"Daga\"]\n",
    "abilità = [\"Furtività\", \"Magia dell'acqua\", \"Camuffamento\", \"Estrazione mineraria\", \"Incantesimi di guarigione\"]\n",
    "\n",
    "#Gebera un personaggio casuale\n",
    "specie = random.choice(speci)\n",
    "classe = random.choice(classi)\n",
    "arma = random.choice(armi)\n",
    "abilità_scelte = random.sample(abilità, random.randint(1,3))\n",
    "\n",
    "#stampa il personaggio generato\n",
    "print(f\"Personaggio Fantasy Generato: \")\n",
    "print(f\"Specie: {specie}\")\n",
    "print(f\"Classe: {classe}\")\n",
    "print(f\"Arma: {arma}\")\n",
    "print(f\"Abilità: {', '.join(abilità_scelte)}\")"
   ]
  },
  {
   "cell_type": "code",
   "execution_count": null,
   "id": "d7999cbf",
   "metadata": {},
   "outputs": [],
   "source": [
    "import random \n",
    "# Liste di speci, classi, armi e abilità\n",
    "speci = [\"Elfo\", \"Umano\" \"Nano\", \"Orco\", \"Gnomo\"]\n",
    "classi = [\"Guerriero\", \"Mago\", \"Ranger\", \"Ladro\", \"Chierico\"]\n",
    "armi = [\"Spada\", \"Arco\", \"Bacchetta magica\", \"Ascia\", \"Daga\"]\n",
    "abilità = [\"Furtività\", \"Magia dell'acqua\", \"Camuffamento\", \"Estrazione mineraria\", \"Incantesimi di guarigione\"]\n",
    "\n",
    "#ufnzone per creare un personaggio causale\n",
    "def crea_personaggio():\n",
    "    return {\n",
    "        \"Specie\": random.choice(speci),\n",
    "        \"Classe\": random.choice(classi),\n",
    "        \"Arma\": random.choice(armi),\n",
    "        \"Abilità\": random.sample(abilità, random.randint(1,3))\n",
    "    }\n",
    "\n",
    "#funzione principale\n",
    "def main():\n",
    "    personaggio_generato = crea_personaggio()\n",
    "    \n",
    "    print(\"Personaggi Fantasy Generato:\")\n",
    "    for chiave, valore in personaggio_generato.items():\n",
    "        if chiave == \"Abilità\":\n",
    "            valore = ', '.join(valore)\n",
    "        print(f\"{chiave}: {valore}\")\n",
    "        \n",
    "#eseguire la funzione main quando il programma viene eseguito\n",
    "if __name__ == \"__main__\":\n",
    "    main()"
   ]
  },
  {
   "cell_type": "code",
   "execution_count": null,
   "id": "dde8d618",
   "metadata": {},
   "outputs": [],
   "source": [
    "import random \n",
    "# Liste di speci, classi, armi e abilità\n",
    "speci = [\"Elfo\", \"Umano\" \"Nano\", \"Orco\", \"Gnomo\"]\n",
    "classi = [\"Guerriero\", \"Mago\", \"Ranger\", \"Ladro\", \"Chierico\"]\n",
    "armi = [\"Spada\", \"Arco\", \"Bacchetta magica\", \"Ascia\", \"Daga\"]\n",
    "abilità = [\"Furtività\", \"Magia dell'acqua\", \"Camuffamento\", \"Estrazione mineraria\", \"Incantesimi di guarigione\"]\n",
    "\n",
    "#ufnzone per creare un personaggio causale\n",
    "def crea_personaggio():\n",
    "    personaggio={\n",
    "        \"Specie\": random.choice(speci),\n",
    "        \"Classe\": random.choice(classi),\n",
    "        \"Arma\": random.choice(armi),\n",
    "        \"Abilità\": random.sample(abilità, random.randint(1,3))\n",
    "    }\n",
    "    return personaggio\n",
    "\n",
    "#funzione principale\n",
    "def main():\n",
    "    personaggio_generato = crea_personaggio()\n",
    "    \n",
    "    print(\"Personaggi Fantasy Generato:\")\n",
    "    for chiave, valore in personaggio_generato.items():\n",
    "        if chiave == \"Abilità\":\n",
    "            valore = ', '.join(valore)\n",
    "        print(f\"{chiave}: {valore}\")\n",
    "        \n",
    "#eseguire la funzione main quando il programma viene eseguito\n",
    "if __name__ == \"__main__\":\n",
    "    main()"
   ]
  },
  {
   "cell_type": "markdown",
   "id": "8647554f",
   "metadata": {},
   "source": [
    "# La letteratura combinatoria #"
   ]
  },
  {
   "cell_type": "code",
   "execution_count": null,
   "id": "aeb30f24",
   "metadata": {},
   "outputs": [],
   "source": [
    "import random\n",
    "\n",
    "physical_traits = [\"capelli nero\", \"capelli biondi\", \"occhi cazzurri\", \"occhi verdi\"]\n",
    "personality_traits = [\"gentile\", \"introverso\", \"estroverso\", \"ottimista\"]\n",
    "backgrounds = [\"contadino\", \"nobile\", \"artigiano\", \"commerciale\"]\n",
    "motivations = [\"vendetta\", \"ricchezza\", \"amore\", \"vita esterna\"]\n",
    "\n",
    "def genera_personaggio():\n",
    "    nome = input(\"Inserisci il nome del personaggio: \")\n",
    "    aspetto_fisico = random.choice(physical_traits)\n",
    "    aspetto_personale = random.choice(personality_traits)\n",
    "    sfondo = random.choice(backgrounds)\n",
    "    motivazione = random.choice(motivations)\n",
    "    \n",
    "    descrizione =f\"Nome: {nome}\\nAspetto Fisico: {aspetto_fisico}\\nAspetto Personale: {aspetto_personale}\\nSfondo: {sfondo}\\nMotivazione: {motivazione}\"\n",
    "    \n",
    "    return descrizione\n",
    "print(\"Generatore di personaggi per romanzi\")\n",
    "print(genera_personaggio())"
   ]
  },
  {
   "cell_type": "markdown",
   "id": "e962623e",
   "metadata": {},
   "source": [
    "# citazione del giorno #"
   ]
  },
  {
   "cell_type": "code",
   "execution_count": null,
   "id": "249f9cd6",
   "metadata": {},
   "outputs": [],
   "source": [
    "#database di citazioni\n",
    "citazioni = [\n",
    "    \"lao\",\n",
    "    \"A\",\n",
    "    \"B\",\n",
    "    \"C\",\n",
    "]\n",
    "\n",
    "#Funzione per generare una citazione casuale\n",
    "def genera_citazione():\n",
    "    return random.choice(citazioni)\n",
    "\n",
    "#funzione principale\n",
    "def main():\n",
    "    print(\"Benvevuto nel generatore di citazioni\")\n",
    "    input(\"Premi invio per ottenere una citazione causale...\")\n",
    "    \n",
    "    citazione = genera_citazione()\n",
    "    print(f\"citazione del giorno: {citazione}\")\n",
    "    \n",
    "if __name__ == \"__main__\":\n",
    "    main()"
   ]
  },
  {
   "cell_type": "markdown",
   "id": "d22e48a4",
   "metadata": {},
   "source": [
    "# GENERATORE FRASI DA INFLUENCER #"
   ]
  },
  {
   "cell_type": "code",
   "execution_count": null,
   "id": "5f585c4d",
   "metadata": {},
   "outputs": [],
   "source": [
    "import random\n",
    "#lista di frammenti di citazioni famose (più brevi)\n",
    "frammenti = [\n",
    "    \"ciao\",\n",
    "    \"come va?\",\n",
    "    \"dio\",\n",
    "    \"grazioso\",\n",
    "    \"madonna\",\n",
    "    \"blabla\",\n",
    "    \"lalalal\",\n",
    "    \"pipipipip\",\n",
    "    \"blululullulu\"\n",
    "]\n",
    "#funzione per crare nuove citazioni rimenscolando i frammenti\n",
    "def crea_citazione():\n",
    "    num_frammenti = random.randint(5,7) #scegli un numero casuale di frammenti da utilizzare\n",
    "    citazione_rimescolata = random.sample(frammenti, num_frammenti)\n",
    "    nuova_citazione = \" \".join(citazione_rimescolata)\n",
    "    return nuova_citazione\n",
    "\n",
    "#genera una nuova nuova citazione\n",
    "nuova_citazione = crea_citazione()\n",
    "print(\"Nuova citazione generata:\")\n",
    "print(nuova_citazione)"
   ]
  },
  {
   "cell_type": "code",
   "execution_count": null,
   "id": "4de58ee4",
   "metadata": {},
   "outputs": [],
   "source": [
    "import random\n",
    "\n",
    "frammenti = [\n",
    "    \"ciao\",\n",
    "    \"come va?\",\n",
    "    \"dio\",\n",
    "    \"grazioso\",\n",
    "    \"madonna\",\n",
    "    \"blabla\",\n",
    "    \"lalalal\",\n",
    "    \"pipipipip\",\n",
    "    \"blululullulu\"\n",
    "]\n",
    "#funzione per crrare nuove citazioni mescolando i frammenti\n",
    "def crea_citazione():\n",
    "    num_frammenti = random.randint(4,7) #scegli un umero casuale di frammenti da utilizzare\n",
    "    citazione_rimescolata = random.sample(frammenti, num_frammenti)\n",
    "    nuova_citazione = \" \".join(citazione_rimescolata)\n",
    "    return nuova_citazione\n",
    "    \n",
    "#genera una nuova citazione\n",
    "def main():\n",
    "    nuova_citazione = crea_citazione()\n",
    "    print(\"Nuova citazione generata:\")\n",
    "    print(nuova_citazione)\n",
    "    \n",
    "if __name__ == \"__main__\":\n",
    "    main()"
   ]
  },
  {
   "cell_type": "code",
   "execution_count": null,
   "id": "96ea2c31",
   "metadata": {},
   "outputs": [],
   "source": [
    "import random\n",
    "\n",
    "#liste di parole predefinite per la generazione dlela poesia\n",
    "aggettivi = [\"dolce\", \"serena\", \"profondo\", \"luminoso\", \"gentile\"]\n",
    "sostantivi = [\"amore\", \"mare\", \"cielo\", \"vento\", \"sogno\"]\n",
    "verbi = [\"danza\", \"splende\", \"abbraccia\", \"canta\", \"sorride\"]\n",
    "\n",
    "#genera una poesia casuale\n",
    "def genera_poesia():\n",
    "    verso1 = f\"Il {random.choice(aggettivi)} {random.choice(sostantivi)} {random.choice(verbi)}.\"\n",
    "    verso2 = f\"Il {random.choice(aggettivi)} {random.choice(sostantivi)} {random.choice(verbi)}.\"\n",
    "    verso3 = f\"Nel {random.choice(aggettivi)} {random.choice(sostantivi)}\""
   ]
  },
  {
   "cell_type": "code",
   "execution_count": null,
   "id": "f458befe",
   "metadata": {},
   "outputs": [],
   "source": []
  },
  {
   "cell_type": "code",
   "execution_count": null,
   "id": "39127845",
   "metadata": {},
   "outputs": [],
   "source": []
  },
  {
   "cell_type": "code",
   "execution_count": null,
   "id": "4101c108",
   "metadata": {},
   "outputs": [],
   "source": []
  },
  {
   "cell_type": "code",
   "execution_count": null,
   "id": "58770cea",
   "metadata": {},
   "outputs": [],
   "source": []
  },
  {
   "cell_type": "code",
   "execution_count": null,
   "id": "7aee4b07",
   "metadata": {},
   "outputs": [],
   "source": []
  }
 ],
 "metadata": {
  "kernelspec": {
   "display_name": "Python 3 (ipykernel)",
   "language": "python",
   "name": "python3"
  },
  "language_info": {
   "codemirror_mode": {
    "name": "ipython",
    "version": 3
   },
   "file_extension": ".py",
   "mimetype": "text/x-python",
   "name": "python",
   "nbconvert_exporter": "python",
   "pygments_lexer": "ipython3",
   "version": "3.11.4"
  }
 },
 "nbformat": 4,
 "nbformat_minor": 5
}
